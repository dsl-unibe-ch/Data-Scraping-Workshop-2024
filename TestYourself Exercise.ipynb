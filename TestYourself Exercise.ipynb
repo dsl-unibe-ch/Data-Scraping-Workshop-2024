{
 "cells": [
  {
   "cell_type": "markdown",
   "metadata": {},
   "source": [
    "# Task 1\n",
    "\n",
    "Create a text corpus of three books from [project gutenberg](https://gutenberg.org/) and save it to your local system. Pay attention to the conditions of the robots.txt file.\n",
    "(Time 25 mins)"
   ]
  },
  {
   "cell_type": "markdown",
   "metadata": {},
   "source": [
    "## Task 2 \n",
    "\n",
    "Try to fill the [form](https://www.selenium.dev/selenium/web/web-form.html) and submit. Extract any text present in the page after submission.\n",
    "(Time 20 mins)"
   ]
  },
  {
   "cell_type": "markdown",
   "metadata": {},
   "source": [
    "## Task 3\n",
    "\n",
    "1. Scrape any other website of your choice (Time 45 mins)\n",
    "2. Present your difficulties to your peers (5 mins)"
   ]
  },
  {
   "cell_type": "markdown",
   "metadata": {},
   "source": []
  }
 ],
 "metadata": {
  "language_info": {
   "name": "python"
  }
 },
 "nbformat": 4,
 "nbformat_minor": 2
}
