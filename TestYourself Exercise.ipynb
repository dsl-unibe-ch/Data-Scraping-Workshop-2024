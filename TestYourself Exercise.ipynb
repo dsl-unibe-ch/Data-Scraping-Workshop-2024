{
 "cells": [
  {
   "cell_type": "markdown",
   "metadata": {},
   "source": [
    "## Task 1\n",
    "\n",
    "Create a text corpus of three books from [project gutenberg](https://gutenberg.org/) and save it to your local system. Pay attention to the conditions of the robots.txt file.\n",
    "(Time 25 mins)"
   ]
  },
  {
   "cell_type": "code",
   "execution_count": 1,
   "metadata": {},
   "outputs": [],
   "source": [
    "from urllib.request import urlopen\n",
    "from bs4 import BeautifulSoup\n",
    "import time"
   ]
  },
  {
   "cell_type": "code",
   "execution_count": null,
   "metadata": {},
   "outputs": [],
   "source": [
    "# Solution with Beautiful Soup\n",
    "\n",
    "start = time.time()\n",
    "\n",
    "url_list = [\"https://gutenberg.org/cache/epub/1232/pg1232-images.html\",\n",
    "            \"https://gutenberg.org/cache/epub/2554/pg2554-images.html\",\n",
    "            \"https://gutenberg.org/cache/epub/1727/pg1727-images.html\"]\n",
    "\n",
    "for index, url in enumerate(url_list):\n",
    "    html_response = urlopen(url) # returns http.client.HTTPResponse as a file like object\n",
    "    bs = BeautifulSoup(html_response, 'html.parser')\n",
    "    text = \"\"\n",
    "    print(bs.h1.string)\n",
    "    if bs.h1.string:\n",
    "        print(bs.h1.string)\n",
    "        text = text + bs.h1.string\n",
    "    all_p_elements = bs.select(\".chapter\")\n",
    "    for elem in all_p_elements:\n",
    "        print(elem.text)\n",
    "        text = text + elem.text\n",
    "    with open(str(index)+\".txt\", \"w\", encoding=\"utf8\") as f:\n",
    "        f.write(text)\n",
    "\n",
    "print(f'Executed in {time.time()-start} seconds')"
   ]
  },
  {
   "cell_type": "code",
   "execution_count": 23,
   "metadata": {},
   "outputs": [],
   "source": [
    "from selenium import webdriver\n",
    "from selenium.webdriver.chrome.service import Service\n",
    "from selenium.webdriver.support.ui import WebDriverWait\n",
    "from selenium.webdriver.common.by import By\n",
    "from selenium.webdriver.support import expected_conditions as EC\n",
    "import time"
   ]
  },
  {
   "cell_type": "code",
   "execution_count": null,
   "metadata": {},
   "outputs": [],
   "source": [
    "# Solution with Selenium\n",
    "\n",
    "start = time.time()\n",
    "url_list = [\"https://gutenberg.org/cache/epub/1232/pg1232-images.html\",\n",
    "            \"https://gutenberg.org/cache/epub/2554/pg2554-images.html\",\n",
    "            \"https://gutenberg.org/cache/epub/1727/pg1727-images.html\"]\n",
    "\n",
    "url = \"https://fill.dev/form/login-simple\"\n",
    "service = Service(executable_path = \"chromedriver.exe\")\n",
    "driver = webdriver.Chrome(service=service)\n",
    "driver.maximize_window()\n",
    "\n",
    "\n",
    "\n",
    "for index, url in enumerate(url_list):\n",
    "    text = \"\"\n",
    "    driver.get(url=url)\n",
    "    elements = driver.find_elements(By.TAG_NAME,\"p\")\n",
    "    for elem in elements:\n",
    "        print(elem.text)\n",
    "        text = text + elem.text\n",
    "\n",
    "    with open(str(index)+\"_selenium.txt\", \"w\", encoding=\"utf8\") as f:\n",
    "        f.write(text)\n",
    "print(f'Executed in {time.time()-start} seconds')\n",
    "    "
   ]
  },
  {
   "cell_type": "markdown",
   "metadata": {},
   "source": [
    "## Task 2 \n",
    "\n",
    "Try to fill the [form](https://www.selenium.dev/selenium/web/web-form.html) and submit. Extract any text present in the page after submission.\n",
    "(Time 20 mins)"
   ]
  },
  {
   "cell_type": "markdown",
   "metadata": {},
   "source": [
    "## Task 3\n",
    "\n",
    "1. Scrape any other website of your choice (Time 45 mins)\n",
    "2. Present your difficulties to your peers (5 mins)"
   ]
  },
  {
   "cell_type": "markdown",
   "metadata": {},
   "source": []
  }
 ],
 "metadata": {
  "kernelspec": {
   "display_name": ".venv",
   "language": "python",
   "name": "python3"
  },
  "language_info": {
   "codemirror_mode": {
    "name": "ipython",
    "version": 3
   },
   "file_extension": ".py",
   "mimetype": "text/x-python",
   "name": "python",
   "nbconvert_exporter": "python",
   "pygments_lexer": "ipython3",
   "version": "3.11.5"
  }
 },
 "nbformat": 4,
 "nbformat_minor": 2
}
