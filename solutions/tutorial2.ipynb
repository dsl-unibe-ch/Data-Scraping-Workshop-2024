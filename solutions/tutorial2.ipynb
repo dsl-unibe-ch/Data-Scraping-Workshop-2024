{
 "cells": [
  {
   "cell_type": "markdown",
   "metadata": {},
   "source": [
    "# Scraping with Selenium\n",
    "\n",
    "We need to inform Selenium about the Webdriver for the browser we wish to use. For the purpose of the exercise, we continue to use Chrome.\n",
    "\n",
    "There are two ways to do it.\n",
    "1. Manually install driver: Install a stable version of the chromedriver directly from [here](https://googlechromelabs.github.io/chrome-for-testing/). Pay attention to the correct version. Download the driver and place it inside the project folder locally. \n",
    "\n",
    "2. Package: You could also install a library such as (webdriver_manager)[https://github.com/SergeyPirogov/webdriver_manager]\n",
    "```pip install webdriver_manager```\n",
    "\n"
   ]
  },
  {
   "cell_type": "code",
   "execution_count": 2,
   "metadata": {},
   "outputs": [],
   "source": [
    "from selenium.webdriver.support.ui import WebDriverWait\n",
    "from selenium.webdriver.common.by import By\n",
    "from selenium.webdriver.support import expected_conditions as EC\n",
    "import time"
   ]
  },
  {
   "cell_type": "code",
   "execution_count": 4,
   "metadata": {},
   "outputs": [],
   "source": [
    "# If you have chosen to install chromedriver manually\n",
    "from selenium import webdriver\n",
    "from selenium.webdriver.chrome.service import Service\n",
    "service = Service(executable_path = \"chromedriver.exe\")\n",
    "driver = webdriver.Chrome(service=service)\n",
    "driver.maximize_window()\n",
    "driver.get(\"https://www.google.com/\")\n",
    "driver.close()"
   ]
  },
  {
   "cell_type": "code",
   "execution_count": null,
   "metadata": {},
   "outputs": [],
   "source": [
    "#If you have chosen to install webdriver_manager, then execute the following lines of code\n",
    "'''\n",
    "from selenium.webdriver.chrome.service import Service as ChromeService\n",
    "from webdriver_manager.chrome import ChromeDriverManager\n",
    "\n",
    "driver = webdriver.Chrome(service=ChromeService(ChromeDriverManager().install()))\n",
    "driver.maximize_window()\n",
    "driver.get(\"https://www.google.com/\")\n",
    "\n",
    "'''"
   ]
  },
  {
   "cell_type": "markdown",
   "metadata": {},
   "source": [
    "# Some Important Concepts\n",
    "1. **Waiting**: Sometimes the web application needs time for processing. If we try to access the page before the application is in a valid state, we might get an error. (Usually TimeoutError). Selenium provides two waiting strategies\n",
    "    1. **Implicit Waits**: This is a global setting that applies to every element location call for the entire session. If an implicit wait is set, the driver will wait for the duration of the provided value before returning an error, if the element is not fopund. However, if the element is located, the driver will return the element reference immediate and further code will continue executing, so a larger implicit wait value won’t necessarily increase the duration of the session.\n",
    "    ```driver.implicitly_wait(10)``` implies that the driver should wait for 10 seconds before returning an error.\n",
    "    2. **Explicit Waits**: These are loops that check that a condition criteria is true before proceeding to futher code execution. If the condition is not met, a timeout error is returned.\n",
    "        1. ```wait = WebDriverWait(driver, 10)``` implies a timeout should be performed after 10 seconds if the condition is not fulfilled.\n",
    "        2. ```element = wait.until(EC.element_to_be_clickable((By.XPATH, xpath_login)))``` implies waiting until the [expected conditions](https://www.selenium.dev/documentation/webdriver/support_features/expected_conditions/) for checking an element is visible and enabled such that you can click it is met. An element is retuned if the the conditions are met.\n",
    "   More details can be found [here](https://www.selenium.dev/documentation/webdriver/waits/).\n",
    "2. ** Finding Elements**: Selenim offers [several attributes](https://selenium-python.readthedocs.io/locating-elements.html) in the BY class which can be used for finding elements. \n",
    "    1. ID = \"id\" &emsp; ```find_element(By.ID, \"id\")```\n",
    "    2. NAME = \"name\" &emsp; ```find_element(By.NAME, \"name\")```\n",
    "    3. XPATH = \"xpath\" &emsp; ```find_element(By.XPATH, \"xpath\")```\n",
    "    4. LINK_TEXT = \"link text\" &emsp; ```find_element(By.LINK_TEXT, \"link text\")```\n",
    "    5. PARTIAL_LINK_TEXT = \"partial link text\" &emsp; ```find_element(By.PARTIAL_LINK_TEXT, \"partial link text\")```\n",
    "    6. TAG_NAME = \"tag name\" &emsp; ```find_element(By.TAG_NAME, \"tag name\")```\n",
    "    7. CLASS_NAME = \"class name\" &emsp; ```find_element(By.CLASS_NAME, \"class name\")```\n",
    "    8. CSS_SELECTOR = \"css selector\" &emsp; ```find_element(By.CSS_SELECTOR, \"css selector\")```\n",
    "    9. Multiple elements can be found by ```element.find_elements(By.NAME, \"name\")```\n",
    "3. **Giving Inputs**: Form elements can be provided with text using ```element.send_keys(\"Some Text\")```  "
   ]
  },
  {
   "cell_type": "code",
   "execution_count": 35,
   "metadata": {},
   "outputs": [],
   "source": [
    "url = \"https://www.selenium.dev/selenium/docs/api/py/index.html#\"\n",
    "service = Service(executable_path = \"chromedriver.exe\")\n",
    "driver = webdriver.Chrome(service=service)\n",
    "driver.maximize_window()\n",
    "driver.get(url=url)\n",
    "wait = WebDriverWait(driver, 10)\n",
    "time.sleep(10)\n",
    "driver.close()"
   ]
  },
  {
   "cell_type": "code",
   "execution_count": 39,
   "metadata": {},
   "outputs": [
    {
     "name": "stdout",
     "output_type": "stream",
     "text": [
      "Introduction\n",
      "Python language bindings for Selenium WebDriver.\n",
      "The selenium package is used to automate web browser interaction from Python.\n",
      "Home: https://selenium.dev\n",
      "GitHub: https://github.com/SeleniumHQ/Selenium\n",
      "PyPI: https://pypi.org/project/selenium/\n",
      "IRC/Slack: Selenium chat room\n",
      "Several browsers/drivers are supported (Firefox, Chrome, Internet Explorer), as well as the Remote protocol.\n"
     ]
    }
   ],
   "source": [
    "url = \"https://www.selenium.dev/selenium/docs/api/py/index.html#\"\n",
    "service = Service(executable_path = \"chromedriver.exe\")\n",
    "driver = webdriver.Chrome(service=service)\n",
    "driver.maximize_window()\n",
    "driver.get(url=url)\n",
    "#wait = WebDriverWait(driver, 10)\n",
    "element = driver.find_element(By.ID,\"introduction\")\n",
    "print(element.text)\n",
    "time.sleep(2)\n",
    "driver.close()"
   ]
  },
  {
   "cell_type": "markdown",
   "metadata": {},
   "source": [
    "## Task 1\n",
    "Print the text for all the div tags with class names as sections for the url https://www.selenium.dev/selenium/docs/api/py/index.html#"
   ]
  },
  {
   "cell_type": "code",
   "execution_count": 41,
   "metadata": {},
   "outputs": [],
   "source": [
    "url = \"https://www.selenium.dev/selenium/docs/api/py/index.html#\"\n",
    "service = Service(executable_path = \"chromedriver.exe\")\n",
    "driver = webdriver.Chrome(service=service)\n",
    "driver.maximize_window()\n",
    "driver.get(url=url)\n",
    "elements = driver.find_elements(By.CLASS_NAME,\"section\")\n",
    "for element in elements:\n",
    "    print(element.text)\n",
    "time.sleep(2)\n",
    "driver.close()"
   ]
  },
  {
   "cell_type": "code",
   "execution_count": 47,
   "metadata": {},
   "outputs": [
    {
     "name": "stdout",
     "output_type": "stream",
     "text": [
      "https://github.com/SeleniumHQ/Selenium\n",
      "https://github.com/mozilla/geckodriver/releases\n",
      "https://github.com/SeleniumHQ/selenium/tree/trunk/py\n"
     ]
    }
   ],
   "source": [
    "url = \"https://www.selenium.dev/selenium/docs/api/py/index.html#\"\n",
    "service = Service(executable_path = \"chromedriver.exe\")\n",
    "driver = webdriver.Chrome(service=service)\n",
    "driver.maximize_window()\n",
    "driver.get(url=url)\n",
    "elements = driver.find_elements(By.PARTIAL_LINK_TEXT,\"github\")\n",
    "for element in elements:\n",
    "    print(element.text)\n",
    "time.sleep(2)\n",
    "driver.close()"
   ]
  },
  {
   "cell_type": "markdown",
   "metadata": {},
   "source": [
    "## Task 2\n",
    "Go to the website (https://fill.dev/)[https://fill.dev/] and submit forms such as simple login and credit card information with **DUMMY** information."
   ]
  },
  {
   "cell_type": "code",
   "execution_count": 20,
   "metadata": {},
   "outputs": [],
   "source": [
    "# Simple Login\n",
    "url = \"https://fill.dev/\"\n",
    "service = Service(executable_path = \"chromedriver.exe\")\n",
    "driver = webdriver.Chrome(service=service)\n",
    "driver.maximize_window()\n",
    "driver.get(url=url)\n",
    "wait = WebDriverWait(driver, 10)\n",
    "xpath_login = \"//*[@id=\\\"navbarSupportedContent\\\"]/ul/li[1]\"\n",
    "\n",
    "element = wait.until(EC.element_to_be_clickable((By.XPATH, xpath_login)))\n",
    "element.click()\n",
    "time.sleep(5)\n",
    "xpath_simple_login = \"//*[@id=\\\"navbarSupportedContent\\\"]/ul/li[1]/ul/li[1]/a\"\n",
    "element = wait.until(EC.element_to_be_clickable((By.XPATH, xpath_simple_login)))\n",
    "element.click()\n",
    "xpath_username = \"//*[@id=\\\"username\\\"]\"\n",
    "element = wait.until(EC.element_to_be_clickable((By.XPATH, xpath_username)))\n",
    "element.send_keys(\"random_username\")\n",
    "xpath_password = \"//*[@id=\\\"password\\\"]\"\n",
    "element = wait.until(EC.element_to_be_clickable((By.XPATH, xpath_password)))\n",
    "element.send_keys(\"random_password\")\n",
    "xpath_submit_button = \"//*[@id=\\\"app\\\"]/main/div/div/div/div/div[2]/form/div[3]/div/button\"\n",
    "element = wait.until(EC.element_to_be_clickable((By.XPATH, xpath_submit_button)))\n",
    "element.click()\n",
    "time.sleep(10)\n",
    "\n",
    "driver.close()"
   ]
  },
  {
   "cell_type": "code",
   "execution_count": 32,
   "metadata": {},
   "outputs": [
    {
     "name": "stderr",
     "output_type": "stream",
     "text": [
      "The chromedriver version (124.0.6367.201) detected in PATH at c:\\Users\\sukan\\PycharmProjects\\Data Scraping Workshop 2024\\chromedriver.exe might not be compatible with the detected chrome version (125.0.6422.142); currently, chromedriver 125.0.6422.141 is recommended for chrome 125.*, so it is advised to delete the driver in PATH and retry\n"
     ]
    },
    {
     "name": "stdout",
     "output_type": "stream",
     "text": [
      "\n",
      "visa\n",
      "mc\n",
      "amex\n",
      "discover\n"
     ]
    }
   ],
   "source": [
    "# Credit Card\n",
    "url = \"https://fill.dev/form/credit-card-simple\"\n",
    "service = Service(executable_path = \"chromedriver.exe\")\n",
    "driver = webdriver.Chrome(service=service)\n",
    "driver.maximize_window()\n",
    "driver.get(url=url)\n",
    "wait = WebDriverWait(driver, 10)\n",
    "xpath_name = \"//*[@id=\\\"cc-name\\\"]\"\n",
    "element = wait.until(EC.element_to_be_clickable((By.XPATH, xpath_name)))\n",
    "element.send_keys(\"John Doe\")\n",
    "\n",
    "xpath_type = \"//*[@id=\\\"cc-type\\\"]\"\n",
    "element = wait.until(EC.element_to_be_clickable((By.XPATH, xpath_type)))\n",
    "all_options  = element.find_elements(By.TAG_NAME, \"option\")\n",
    "for option in all_options:\n",
    "    print(option.get_attribute(\"value\"))\n",
    "    if option.get_attribute(\"value\")==\"amex\":\n",
    "        option.click()\n",
    "time.sleep(10)\n",
    "\n",
    "driver.close()"
   ]
  },
  {
   "cell_type": "markdown",
   "metadata": {},
   "source": []
  }
 ],
 "metadata": {
  "kernelspec": {
   "display_name": ".venv",
   "language": "python",
   "name": "python3"
  },
  "language_info": {
   "codemirror_mode": {
    "name": "ipython",
    "version": 3
   },
   "file_extension": ".py",
   "mimetype": "text/x-python",
   "name": "python",
   "nbconvert_exporter": "python",
   "pygments_lexer": "ipython3",
   "version": "3.11.5"
  }
 },
 "nbformat": 4,
 "nbformat_minor": 2
}
